{
  "nbformat": 4,
  "nbformat_minor": 0,
  "metadata": {
    "colab": {
      "name": "Exe6 - Python",
      "provenance": [],
      "authorship_tag": "ABX9TyPtQrqQFckN24tswVrt5YSj",
      "include_colab_link": true
    },
    "kernelspec": {
      "name": "python3",
      "display_name": "Python 3"
    },
    "language_info": {
      "name": "python"
    }
  },
  "cells": [
    {
      "cell_type": "markdown",
      "metadata": {
        "id": "view-in-github",
        "colab_type": "text"
      },
      "source": [
        "<a href=\"https://colab.research.google.com/github/adrienkko/exercisespython/blob/main/Exe6_Python.ipynb\" target=\"_parent\"><img src=\"https://colab.research.google.com/assets/colab-badge.svg\" alt=\"Open In Colab\"/></a>"
      ]
    },
    {
      "cell_type": "code",
      "execution_count": 10,
      "metadata": {
        "colab": {
          "base_uri": "https://localhost:8080/"
        },
        "id": "2B7k3ClOC4BI",
        "outputId": "c7046d3c-edbb-4a1f-a9e4-a0c8e2389f3a"
      },
      "outputs": [
        {
          "output_type": "stream",
          "name": "stdout",
          "text": [
            "Digite um número: 2\n",
            "Digite outro número: 18\n",
            "O número 18 é maior que o número 2\n"
          ]
        }
      ],
      "source": [
        "n = int(input('Digite um número: '))\n",
        "n1 = int(input('Digite outro número: '))\n",
        "if n>n1:\n",
        "  print(f'O número {n} é maior que o número {n1}')\n",
        "elif n1>n:\n",
        "  print(f'O número {n1} é maior que o número {n}')\n",
        "else:\n",
        "  print('Os números são iguais.')"
      ]
    }
  ]
}