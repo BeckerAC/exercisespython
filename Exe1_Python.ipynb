{
  "nbformat": 4,
  "nbformat_minor": 0,
  "metadata": {
    "colab": {
      "name": "Exe1 - Python",
      "provenance": [],
      "authorship_tag": "ABX9TyPdQFBbhx0/OXBExsHS9oas",
      "include_colab_link": true
    },
    "kernelspec": {
      "name": "python3",
      "display_name": "Python 3"
    },
    "language_info": {
      "name": "python"
    }
  },
  "cells": [
    {
      "cell_type": "markdown",
      "metadata": {
        "id": "view-in-github",
        "colab_type": "text"
      },
      "source": [
        "<a href=\"https://colab.research.google.com/github/adrienkko/exercisespython/blob/main/Exe1_Python.ipynb\" target=\"_parent\"><img src=\"https://colab.research.google.com/assets/colab-badge.svg\" alt=\"Open In Colab\"/></a>"
      ]
    },
    {
      "cell_type": "code",
      "source": [
        "dez = int(input(\"Insira um valor: \"))\n",
        "if dez>10:\n",
        "    print(\"Esse número é maior que 10!\")\n",
        "elif dez==10:\n",
        "    print(\"Esse número é igual a 10!\")\n",
        "else:\n",
        "    print(\"Esse número é menor que 10!\")"
      ],
      "metadata": {
        "colab": {
          "base_uri": "https://localhost:8080/"
        },
        "id": "Taf2kEhkM5B5",
        "outputId": "843ad6db-67a0-4abc-9b7a-3ab0c6e3c510"
      },
      "execution_count": 14,
      "outputs": [
        {
          "output_type": "stream",
          "name": "stdout",
          "text": [
            "Insira um valor: 10\n",
            "Esse número é igual a 10!\n"
          ]
        }
      ]
    }
  ]
}