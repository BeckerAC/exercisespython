{
  "nbformat": 4,
  "nbformat_minor": 0,
  "metadata": {
    "colab": {
      "name": "Exe4 - Python",
      "provenance": [],
      "authorship_tag": "ABX9TyON2+eKlmYmMON32mDy79a6",
      "include_colab_link": true
    },
    "kernelspec": {
      "name": "python3",
      "display_name": "Python 3"
    },
    "language_info": {
      "name": "python"
    }
  },
  "cells": [
    {
      "cell_type": "markdown",
      "metadata": {
        "id": "view-in-github",
        "colab_type": "text"
      },
      "source": [
        "<a href=\"https://colab.research.google.com/github/adrienkko/exercisespython/blob/main/Exe4_Python.ipynb\" target=\"_parent\"><img src=\"https://colab.research.google.com/assets/colab-badge.svg\" alt=\"Open In Colab\"/></a>"
      ]
    },
    {
      "cell_type": "code",
      "execution_count": 9,
      "metadata": {
        "colab": {
          "base_uri": "https://localhost:8080/"
        },
        "id": "LWoXDTDkFZtB",
        "outputId": "28c4e194-cb3d-4b3c-c31b-9e8eceaed271"
      },
      "outputs": [
        {
          "output_type": "stream",
          "name": "stdout",
          "text": [
            "Digite sua primeira nota: 9\n",
            "Digite sua segunda nota: 7\n",
            "Média: 8.0\n",
            "O aluno está aprovado.\n"
          ]
        }
      ],
      "source": [
        "nota = int(input('Digite sua primeira nota: '))\n",
        "not2 = int(input('Digite sua segunda nota: '))\n",
        "media = (nota+not2)/2\n",
        "print(f'Média: {media}')\n",
        "if media<6:\n",
        "  print('O aluno está reprovado.')\n",
        "else:\n",
        "  print('O aluno está aprovado.')\n"
      ]
    }
  ]
}