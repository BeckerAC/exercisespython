{
  "nbformat": 4,
  "nbformat_minor": 0,
  "metadata": {
    "colab": {
      "name": "Exe3 - Python",
      "provenance": [],
      "authorship_tag": "ABX9TyNxXLGwS1mH7d9L6/ucMO6e",
      "include_colab_link": true
    },
    "kernelspec": {
      "name": "python3",
      "display_name": "Python 3"
    },
    "language_info": {
      "name": "python"
    }
  },
  "cells": [
    {
      "cell_type": "markdown",
      "metadata": {
        "id": "view-in-github",
        "colab_type": "text"
      },
      "source": [
        "<a href=\"https://colab.research.google.com/github/adrienkko/exercisespython/blob/main/Exe3_Python.ipynb\" target=\"_parent\"><img src=\"https://colab.research.google.com/assets/colab-badge.svg\" alt=\"Open In Colab\"/></a>"
      ]
    },
    {
      "cell_type": "code",
      "execution_count": 7,
      "metadata": {
        "colab": {
          "base_uri": "https://localhost:8080/"
        },
        "id": "cYqDgyBJzqej",
        "outputId": "be636a92-936f-4fb8-ccda-351de0cdbfd5"
      },
      "outputs": [
        {
          "output_type": "stream",
          "name": "stdout",
          "text": [
            "Maçãs compradas: 30\n",
            "O custo total foi: 30.0\n"
          ]
        }
      ],
      "source": [
        "maca = float(input('Maçãs compradas: '))\n",
        "if maca<12:\n",
        "    print(f'O custo total foi: {maca*1.30}')\n",
        "else:\n",
        "    print(f'O custo total foi: {maca*1.00}')"
      ]
    }
  ]
}