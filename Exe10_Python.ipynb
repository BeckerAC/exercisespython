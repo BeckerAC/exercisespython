{
  "nbformat": 4,
  "nbformat_minor": 0,
  "metadata": {
    "colab": {
      "name": "Exe10 - Python",
      "provenance": [],
      "authorship_tag": "ABX9TyNVaRh3WibNxdi6hu8nll97",
      "include_colab_link": true
    },
    "kernelspec": {
      "name": "python3",
      "display_name": "Python 3"
    },
    "language_info": {
      "name": "python"
    }
  },
  "cells": [
    {
      "cell_type": "markdown",
      "metadata": {
        "id": "view-in-github",
        "colab_type": "text"
      },
      "source": [
        "<a href=\"https://colab.research.google.com/github/adrienkko/exercisespython/blob/main/Exe10_Python.ipynb\" target=\"_parent\"><img src=\"https://colab.research.google.com/assets/colab-badge.svg\" alt=\"Open In Colab\"/></a>"
      ]
    },
    {
      "cell_type": "code",
      "execution_count": 12,
      "metadata": {
        "id": "s0RHKUPZPPmY",
        "colab": {
          "base_uri": "https://localhost:8080/"
        },
        "outputId": "1ff72602-0264-43db-c2ac-bf520b39d801"
      },
      "outputs": [
        {
          "output_type": "stream",
          "name": "stdout",
          "text": [
            "Informe seu salário fixo:R$ 1200\n",
            "Informe suas vendas:R$ 2000\n",
            "O salário total é de: 1300.0\n"
          ]
        }
      ],
      "source": [
        "salfixo = float(input('Informe seu salário fixo:R$ '))\n",
        "vendas = float(input('Informe suas vendas:R$ '))\n",
        "\n",
        "if vendas<=1500:\n",
        "  comissao=vendas*0.03\n",
        "elif vendas>1500:\n",
        "  comissao=vendas*0.05\n",
        "print(f'O salário total é de: {comissao+salfixo}')"
      ]
    }
  ]
}