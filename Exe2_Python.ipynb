{
  "nbformat": 4,
  "nbformat_minor": 0,
  "metadata": {
    "colab": {
      "name": "Exe2 - Python",
      "provenance": [],
      "authorship_tag": "ABX9TyPCk6dQ4xWvHso3h42rAHZc",
      "include_colab_link": true
    },
    "kernelspec": {
      "name": "python3",
      "display_name": "Python 3"
    },
    "language_info": {
      "name": "python"
    }
  },
  "cells": [
    {
      "cell_type": "markdown",
      "metadata": {
        "id": "view-in-github",
        "colab_type": "text"
      },
      "source": [
        "<a href=\"https://colab.research.google.com/github/adrienkko/exercisespython/blob/main/Exe2_Python.ipynb\" target=\"_parent\"><img src=\"https://colab.research.google.com/assets/colab-badge.svg\" alt=\"Open In Colab\"/></a>"
      ]
    },
    {
      "cell_type": "code",
      "execution_count": 5,
      "metadata": {
        "colab": {
          "base_uri": "https://localhost:8080/"
        },
        "id": "Sux-Ka4toMcN",
        "outputId": "df1a25e1-47d3-42c1-fefd-76e56d2d8030"
      },
      "outputs": [
        {
          "output_type": "stream",
          "name": "stdout",
          "text": [
            "Digite um número: 675\n",
            "Esse número é positivo\n"
          ]
        }
      ],
      "source": [
        "n = int(input('Digite um número: '))\n",
        "if n<0:\n",
        "  print('Esse número é negativo')\n",
        "else:\n",
        "  print('Esse número é positivo')"
      ]
    }
  ]
}