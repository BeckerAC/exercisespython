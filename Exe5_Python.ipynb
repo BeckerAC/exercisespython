{
  "nbformat": 4,
  "nbformat_minor": 0,
  "metadata": {
    "colab": {
      "name": "Exe5 - Python",
      "provenance": [],
      "authorship_tag": "ABX9TyM+twb9MYkCQ4zeQRLmz8Ux",
      "include_colab_link": true
    },
    "kernelspec": {
      "name": "python3",
      "display_name": "Python 3"
    },
    "language_info": {
      "name": "python"
    }
  },
  "cells": [
    {
      "cell_type": "markdown",
      "metadata": {
        "id": "view-in-github",
        "colab_type": "text"
      },
      "source": [
        "<a href=\"https://colab.research.google.com/github/adrienkko/exercisespython/blob/main/Exe5_Python.ipynb\" target=\"_parent\"><img src=\"https://colab.research.google.com/assets/colab-badge.svg\" alt=\"Open In Colab\"/></a>"
      ]
    },
    {
      "cell_type": "code",
      "execution_count": 16,
      "metadata": {
        "colab": {
          "base_uri": "https://localhost:8080/"
        },
        "id": "lqG-q8d5S5wz",
        "outputId": "49475f23-0d4f-4ee2-cf81-916570b99825"
      },
      "outputs": [
        {
          "output_type": "stream",
          "name": "stdout",
          "text": [
            "Digite seu ano de nascimento: 2004\n",
            "Digite o ano atual: 2022\n",
            "Sua idade é: 18 anos.\n",
            "Você deve votar de forma obrigatória.\n"
          ]
        }
      ],
      "source": [
        "ano = int(input('Digite seu ano de nascimento: '))\n",
        "anoatual = int(input('Digite o ano atual: '))\n",
        "idade = anoatual-ano\n",
        "print(f'Sua idade é: {idade} anos.')\n",
        "if idade>=16 and idade<18 or idade>=70:\n",
        "  print('Você pode votar de forma facultativa.')\n",
        "elif idade<16:\n",
        "  print('Você não pode votar.')\n",
        "else:\n",
        "  print('Você deve votar de forma obrigatória.')"
      ]
    }
  ]
}