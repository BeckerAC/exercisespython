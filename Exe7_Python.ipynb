{
  "nbformat": 4,
  "nbformat_minor": 0,
  "metadata": {
    "colab": {
      "name": "Exe7 - Python",
      "provenance": [],
      "authorship_tag": "ABX9TyMZBHLGKMv5tEWzYTy6BJFs",
      "include_colab_link": true
    },
    "kernelspec": {
      "name": "python3",
      "display_name": "Python 3"
    },
    "language_info": {
      "name": "python"
    }
  },
  "cells": [
    {
      "cell_type": "markdown",
      "metadata": {
        "id": "view-in-github",
        "colab_type": "text"
      },
      "source": [
        "<a href=\"https://colab.research.google.com/github/adrienkko/exercisespython/blob/main/Exe7_Python.ipynb\" target=\"_parent\"><img src=\"https://colab.research.google.com/assets/colab-badge.svg\" alt=\"Open In Colab\"/></a>"
      ]
    },
    {
      "cell_type": "code",
      "execution_count": 7,
      "metadata": {
        "colab": {
          "base_uri": "https://localhost:8080/"
        },
        "id": "LOguCCQOGhm3",
        "outputId": "b3021215-dd5f-49cc-c4ec-261722176fbc"
      },
      "outputs": [
        {
          "output_type": "stream",
          "name": "stdout",
          "text": [
            "Digite um número: 2\n",
            "Digite outro número: 2\n",
            "Os números são iguais.\n"
          ]
        }
      ],
      "source": [
        "n = int(input('Digite um número: '))\n",
        "n1 = int(input('Digite outro número: '))\n",
        "if n>n1:\n",
        "  print(f'A ordem crescente é: {n1,n}')\n",
        "elif n1>n:\n",
        "  print(f'A ordem crescente é: {n,n1}')\n",
        "else: \n",
        "  print('Os números são iguais.')"
      ]
    }
  ]
}